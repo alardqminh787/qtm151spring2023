{
 "cells": [
  {
   "attachments": {},
   "cell_type": "markdown",
   "metadata": {},
   "source": [
    "# Assignment 4"
   ]
  },
  {
   "attachments": {},
   "cell_type": "markdown",
   "metadata": {},
   "source": [
    "## Try to submit as an HTML file"
   ]
  },
  {
   "attachments": {},
   "cell_type": "markdown",
   "metadata": {},
   "source": [
    "<font size = \"5\">\n",
    "Print your name below"
   ]
  },
  {
   "cell_type": "code",
   "execution_count": 2,
   "metadata": {},
   "outputs": [
    {
     "name": "stdout",
     "output_type": "stream",
     "text": [
      "Alard Nguyen\n"
     ]
    }
   ],
   "source": [
    "print(\"Alard Nguyen\")"
   ]
  },
  {
   "attachments": {},
   "cell_type": "markdown",
   "metadata": {},
   "source": [
    "<font size = \"5\">\n",
    "\n",
    "Import the numpy, matplotlib, and pandas packages"
   ]
  },
  {
   "cell_type": "code",
   "execution_count": 3,
   "metadata": {},
   "outputs": [],
   "source": [
    "# Write down your answer here:\n",
    "import numpy as np\n",
    "import matplotlib.pyplot as plt\n",
    "import pandas as pd"
   ]
  },
  {
   "attachments": {},
   "cell_type": "markdown",
   "metadata": {},
   "source": [
    "<font size = \"5\">\n",
    "\n",
    "(a) Create a sequence \n",
    "\n",
    "- Create a value $n = 50$\n",
    "- Create a list with the values $0,1,\\ldots, n$\n",
    "- Count the length of the list"
   ]
  },
  {
   "cell_type": "code",
   "execution_count": 21,
   "metadata": {},
   "outputs": [
    {
     "name": "stdout",
     "output_type": "stream",
     "text": [
      "[0, 1, 2, 3, 4, 5, 6, 7, 8, 9, 10, 11, 12, 13, 14, 15, 16, 17, 18, 19, 20, 21, 22, 23, 24, 25, 26, 27, 28, 29, 30, 31, 32, 33, 34, 35, 36, 37, 38, 39, 40, 41, 42, 43, 44, 45, 46, 47, 48, 49, 50]\n"
     ]
    }
   ],
   "source": [
    "# Write your answer here\n",
    "n = 50\n",
    "list_x = list(range(0,n+1,1))\n",
    "\n",
    "print(list_x)"
   ]
  },
  {
   "attachments": {},
   "cell_type": "markdown",
   "metadata": {},
   "source": [
    "<font size = \"5\">\n",
    "\n",
    "(b) Counting True/False statements in a list\n",
    "\n",
    "- Create\n",
    "list_ages = [18, 20, 13, 15, 20, 35, 8, 7]\n",
    "- Create an empty list \"list_eligible_voter\"\n",
    "- Use a for-loop without numbering\n",
    "    - Determine whether the age is $\\ge 18$\n",
    "    - Store the True/False result in \"list_eligible_voter\"\n",
    "- Use \"np.sum()\" to count how many voters are eligible\n",
    "\n",
    "Hint: Use the \"append\" function."
   ]
  },
  {
   "cell_type": "code",
   "execution_count": 5,
   "metadata": {},
   "outputs": [
    {
     "name": "stdout",
     "output_type": "stream",
     "text": [
      "[True, True, False, False, True, True, False, False]\n"
     ]
    },
    {
     "ename": "TypeError",
     "evalue": "object of type 'bool' has no len()",
     "output_type": "error",
     "traceback": [
      "\u001b[1;31m---------------------------------------------------------------------------\u001b[0m",
      "\u001b[1;31mTypeError\u001b[0m                                 Traceback (most recent call last)",
      "Cell \u001b[1;32mIn[5], line 10\u001b[0m\n\u001b[0;32m      8\u001b[0m \u001b[39mprint\u001b[39m(list_eligible_vote)\n\u001b[0;32m      9\u001b[0m \u001b[39m#not OK yet\u001b[39;00m\n\u001b[1;32m---> 10\u001b[0m np\u001b[39m.\u001b[39msum(\u001b[39mlen\u001b[39;49m(list_eligible_vote\u001b[39m==\u001b[39;49m\u001b[39mTrue\u001b[39;49;00m))\n",
      "\u001b[1;31mTypeError\u001b[0m: object of type 'bool' has no len()"
     ]
    }
   ],
   "source": [
    "# Write your answer here\n",
    "list_age = [18, 20, 13, 15, 20, 35, 8, 7]\n",
    "list_eligible_vote = []\n",
    "\n",
    "for voter in list_age:\n",
    "    list_eligible_vote.append(voter>=18)\n",
    "\n",
    "print(list_eligible_vote)\n",
    "#not OK yet\n",
    "np.sum(len(list_eligible_vote==True))"
   ]
  },
  {
   "attachments": {},
   "cell_type": "markdown",
   "metadata": {},
   "source": [
    "<font size = \"5\">\n",
    "\n",
    "(c) Graphs from multiple datasets\n",
    "\n",
    "- Create a list with the two \"WDI\" datasets for 2000, and 2020\n",
    "- Run a for-loop over each dataset \n",
    "    - Compute a histogram of \"prop_urbanpopulation\" for each year\n",
    "    - Label the title with the name of the dataset"
   ]
  },
  {
   "cell_type": "code",
   "execution_count": 12,
   "metadata": {},
   "outputs": [
    {
     "name": "stdout",
     "output_type": "stream",
     "text": [
      "     year yearcode                  countryname countrycode  \\\n",
      "0    2020   YR2020                  Afghanistan         AFG   \n",
      "1    2020   YR2020  Africa Eastern and Southern         AFE   \n",
      "2    2020   YR2020   Africa Western and Central         AFW   \n",
      "3    2020   YR2020                      Albania         ALB   \n",
      "4    2020   YR2020                      Algeria         DZA   \n",
      "..    ...      ...                          ...         ...   \n",
      "261  2020   YR2020           West Bank and Gaza         PSE   \n",
      "262  2020   YR2020                        World         WLD   \n",
      "263  2020   YR2020                  Yemen, Rep.         YEM   \n",
      "264  2020   YR2020                       Zambia         ZMB   \n",
      "265  2020   YR2020                     Zimbabwe         ZWE   \n",
      "\n",
      "     prop_urbanpopulation  \n",
      "0               26.026000  \n",
      "1               36.828301  \n",
      "2               47.857831  \n",
      "3               62.112000  \n",
      "4               73.733000  \n",
      "..                    ...  \n",
      "261             76.719000  \n",
      "262             56.063764  \n",
      "263             37.908000  \n",
      "264             44.629000  \n",
      "265             32.242000  \n",
      "\n",
      "[266 rows x 5 columns]\n"
     ]
    },
    {
     "ename": "TypeError",
     "evalue": "list expected at most 1 argument, got 2",
     "output_type": "error",
     "traceback": [
      "\u001b[1;31m---------------------------------------------------------------------------\u001b[0m",
      "\u001b[1;31mTypeError\u001b[0m                                 Traceback (most recent call last)",
      "Cell \u001b[1;32mIn[12], line 12\u001b[0m\n\u001b[0;32m     10\u001b[0m wdi_2020 \u001b[39m=\u001b[39m pd\u001b[39m.\u001b[39mread_csv(\u001b[39m'\u001b[39m\u001b[39mwdi_data/wdi_2020.csv\u001b[39m\u001b[39m'\u001b[39m)\n\u001b[0;32m     11\u001b[0m \u001b[39mprint\u001b[39m(wdi_2020)\n\u001b[1;32m---> 12\u001b[0m list_wdi \u001b[39m=\u001b[39m \u001b[39mlist\u001b[39;49m(wdi_2000,wdi_2020)\n",
      "\u001b[1;31mTypeError\u001b[0m: list expected at most 1 argument, got 2"
     ]
    }
   ],
   "source": [
    "# Note \"prop_urbanpopulation\" is the percentage of the urban population over\n",
    "# the total population\n",
    "\n",
    "# Hint: Before you write the loop, test your code out by opening an individual dataset\n",
    "# Once you're sure the code works and you're familiar with the data, run the loop\n",
    "\n",
    "# Write your answer here\n",
    "\n",
    "wdi_2000 = pd.read_csv('wdi_data/wdi_2000.csv')\n",
    "wdi_2020 = pd.read_csv('wdi_data/wdi_2020.csv')\n",
    "print(wdi_2020)\n",
    "list_wdi = list(wdi_2000,wdi_2020)\n",
    "    "
   ]
  },
  {
   "attachments": {},
   "cell_type": "markdown",
   "metadata": {},
   "source": [
    "<font size = \"5\">\n",
    "\n",
    "For questions (d) and (e), use the following table:\n",
    "\n",
    "<img src=\"figures/grading_scale.png\" alt=\"drawing\" width=\"700\"/>\n",
    "\n",
    "(d) Loops with multiple lists\n",
    "\n",
    "<font size =\"3\">\n",
    "- Create three lists\n",
    "\n",
    "list_lower = [93, 87, 83, 80, 75, 70, 65, 60, 55, 0]\n",
    "\n",
    "list_upper = [100,92, 86, 82, 79, 74, 69, 64, 59, 54]\n",
    "\n",
    "list_letters = [\"A\",\"A-\",\"B+\",\"B\",\"B-\",\"C+\",\"C\",\"C-\",\"D\",\"F\"]\n",
    "\n",
    "- Create a for loop that prints the message:\n",
    "\n",
    "\"If a students gets a grade between .... and ..., their letter grade is ...\"\n",
    "\n"
   ]
  },
  {
   "cell_type": "code",
   "execution_count": 27,
   "metadata": {},
   "outputs": [
    {
     "ename": "TypeError",
     "evalue": "'int' object is not iterable",
     "output_type": "error",
     "traceback": [
      "\u001b[1;31m---------------------------------------------------------------------------\u001b[0m",
      "\u001b[1;31mTypeError\u001b[0m                                 Traceback (most recent call last)",
      "Cell \u001b[1;32mIn[27], line 13\u001b[0m\n\u001b[0;32m     10\u001b[0m list_grade\u001b[39m=\u001b[39m\u001b[39mlen\u001b[39m(list_lower)\n\u001b[0;32m     12\u001b[0m index\u001b[39m=\u001b[39m\u001b[39m0\u001b[39m\n\u001b[1;32m---> 13\u001b[0m \u001b[39mfor\u001b[39;00m x \u001b[39min\u001b[39;00m list_grade:\n\u001b[0;32m     14\u001b[0m     y \u001b[39m=\u001b[39m \u001b[39m\"\u001b[39m\u001b[39m If a student gets a grade between \u001b[39m\u001b[39m\"\u001b[39m \u001b[39m+\u001b[39m \u001b[39mstr\u001b[39m(list_lower[x]) \u001b[39m+\u001b[39m \u001b[39m\"\u001b[39m\u001b[39m and \u001b[39m\u001b[39m\"\u001b[39m \u001b[39m+\u001b[39m \u001b[39mstr\u001b[39m(list_upper[x]) \u001b[39m+\u001b[39m \u001b[39m\"\u001b[39m\u001b[39m their letter grade is \u001b[39m\u001b[39m\"\u001b[39m \u001b[39m+\u001b[39m list_letters[x]\n\u001b[0;32m     15\u001b[0m     index \u001b[39m=\u001b[39m index \u001b[39m+\u001b[39m \u001b[39m1\u001b[39m\n",
      "\u001b[1;31mTypeError\u001b[0m: 'int' object is not iterable"
     ]
    }
   ],
   "source": [
    "# Hint: Use a for-loop with numbering \n",
    "# Start the index at zero\n",
    "# In the body of the loop, extract the elements in each list by the index position\n",
    "\n",
    "# Write your answer here\n",
    "list_lower = [93, 87, 83, 80, 75, 70, 65, 60, 55, 0]\n",
    "list_upper = [100,92, 86, 82, 79, 74, 69, 64, 59, 54]\n",
    "list_letters = [\"A\",\"A-\",\"B+\",\"B\",\"B-\",\"C+\",\"C\",\"C-\",\"D\",\"F\"]\n",
    "\n",
    "list_grade=len(list_lower)\n",
    "\n",
    "index=0\n",
    "for x in list_grade:\n",
    "    y = \" If a student gets a grade between \" + str(list_lower[x]) + \" and \" + str(list_upper[x]) + \" their letter grade is \" + list_letters[x]\n",
    "    index = index + 1"
   ]
  },
  {
   "attachments": {},
   "cell_type": "markdown",
   "metadata": {},
   "source": [
    "<font size = \"5\" >\n",
    "\n",
    "(e) Classification with double loops\n",
    "\n",
    "<font size =\"3\">\n",
    "\n",
    "- Suppose that 5 students get the following grades:\n",
    "\n",
    "list_studentgrades = [80, 92, 60, 42, 97]\n",
    "\n",
    "- Print the following message:\n",
    "\n",
    "\"The student got a numeric grade of .... and their letter grade was ...\"\n"
   ]
  },
  {
   "cell_type": "code",
   "execution_count": null,
   "metadata": {},
   "outputs": [],
   "source": [
    "#(a) Hint: Use a double for loop structure:\n",
    "#---- for studentgrade in list_studentgrades:\n",
    "#----     index = 0\n",
    "#----     for letter in list_letters:\n",
    "#----          Body\n",
    "#----          index = index + 1\n",
    "\n",
    "# (b) Inside the body, use an if/else statement to print the correct letter grade.\n",
    "# You can make your code more concise by doing similar steps to question (d).\n",
    "\n",
    "# Write your answer here:"
   ]
  },
  {
   "cell_type": "code",
   "execution_count": 29,
   "metadata": {},
   "outputs": [
    {
     "ename": "TypeError",
     "evalue": "'>=' not supported between instances of 'str' and 'int'",
     "output_type": "error",
     "traceback": [
      "\u001b[1;31m---------------------------------------------------------------------------\u001b[0m",
      "\u001b[1;31mTypeError\u001b[0m                                 Traceback (most recent call last)",
      "Cell \u001b[1;32mIn[29], line 6\u001b[0m\n\u001b[0;32m      4\u001b[0m index \u001b[39m=\u001b[39m \u001b[39m0\u001b[39m \n\u001b[0;32m      5\u001b[0m \u001b[39mfor\u001b[39;00m letter \u001b[39min\u001b[39;00m list_letters:\n\u001b[1;32m----> 6\u001b[0m     \u001b[39mif\u001b[39;00m letter \u001b[39m>\u001b[39;49m\u001b[39m=\u001b[39;49m \u001b[39m93\u001b[39;49m: \n\u001b[0;32m      7\u001b[0m         \u001b[39mprint\u001b[39m(\u001b[39m\"\u001b[39m\u001b[39mA\u001b[39m\u001b[39m\"\u001b[39m) \n\u001b[0;32m      8\u001b[0m     \u001b[39melif\u001b[39;00m letter \u001b[39m>\u001b[39m\u001b[39m=\u001b[39m \u001b[39m87\u001b[39m: \n",
      "\u001b[1;31mTypeError\u001b[0m: '>=' not supported between instances of 'str' and 'int'"
     ]
    }
   ],
   "source": [
    "list_studentgrades = [80, 92, 60, 42, 97]\n",
    "\n",
    "for studentgrade in list_studentgrades:\n",
    "    index = 0 \n",
    "    for letter in list_letters:\n",
    "        if letter >= 93: \n",
    "            print(\"A\") \n",
    "        elif letter >= 87: \n",
    "            print(\"A-\")\n",
    "        elif letter >= 83:\n",
    "            print(\"B+\")\n",
    "        elif letter >= 80:\n",
    "            print(\"B\")\n",
    "        elif letter >= 75:\n",
    "            print(\"B-\")\n",
    "        elif letter >= 70:\n",
    "            print(\"C+\")\n",
    "        elif letter >= 65:\n",
    "            print(\"C\")\n",
    "        elif letter >= 60:\n",
    "            print(\"C-\")\n",
    "        elif letter >= 55:\n",
    "            print(\"D\")\n",
    "        else: \n",
    "            print(\"F\")\n",
    "        index = index + 1"
   ]
  }
 ],
 "metadata": {
  "kernelspec": {
   "display_name": "Python 3",
   "language": "python",
   "name": "python3"
  },
  "language_info": {
   "codemirror_mode": {
    "name": "ipython",
    "version": 3
   },
   "file_extension": ".py",
   "mimetype": "text/x-python",
   "name": "python",
   "nbconvert_exporter": "python",
   "pygments_lexer": "ipython3",
   "version": "3.11.1"
  },
  "orig_nbformat": 4,
  "vscode": {
   "interpreter": {
    "hash": "5f80c455da1dc101d9f66a16923589bd6dbb3429340af280f1efed2f72025e97"
   }
  }
 },
 "nbformat": 4,
 "nbformat_minor": 2
}
